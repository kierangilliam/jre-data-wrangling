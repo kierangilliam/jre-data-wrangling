{
 "cells": [
  {
   "cell_type": "code",
   "execution_count": 6,
   "metadata": {
    "ExecuteTime": {
     "end_time": "2020-11-27T17:52:09.924519Z",
     "start_time": "2020-11-27T17:52:09.919357Z"
    }
   },
   "outputs": [],
   "source": [
    "import pandas as pd\n",
    "import pickle\n",
    "import numpy as np\n",
    "from tqdm import tqdm\n",
    "import json\n",
    "from glob import glob"
   ]
  },
  {
   "cell_type": "code",
   "execution_count": 3,
   "metadata": {
    "ExecuteTime": {
     "end_time": "2020-11-26T19:30:52.153077Z",
     "start_time": "2020-11-26T19:30:52.149272Z"
    }
   },
   "outputs": [],
   "source": [
    "WEBSITE = \"../data/jre/website/\""
   ]
  },
  {
   "cell_type": "code",
   "execution_count": 25,
   "metadata": {
    "ExecuteTime": {
     "end_time": "2020-11-27T18:13:07.241566Z",
     "start_time": "2020-11-27T18:13:07.235812Z"
    }
   },
   "outputs": [],
   "source": [
    "def sort_newest(eps):\n",
    "    return sorted(eps, key=lambda ep: ep.number, reverse=True)"
   ]
  },
  {
   "cell_type": "code",
   "execution_count": 4,
   "metadata": {
    "ExecuteTime": {
     "end_time": "2020-11-26T19:31:07.901195Z",
     "start_time": "2020-11-26T19:30:53.070353Z"
    }
   },
   "outputs": [
    {
     "name": "stdout",
     "output_type": "stream",
     "text": [
      "Number of loaded episodes: 2455\n"
     ]
    }
   ],
   "source": [
    "CACHE = \"./jre-episodes.pickle\"\n",
    "\n",
    "with open(CACHE, \"rb\") as f:\n",
    "    episodes = pickle.load(f)\n",
    "\n",
    "print(f\"Number of loaded episodes: {len(episodes)}\")"
   ]
  },
  {
   "cell_type": "code",
   "execution_count": 26,
   "metadata": {
    "ExecuteTime": {
     "end_time": "2020-11-27T18:13:10.313974Z",
     "start_time": "2020-11-27T18:13:10.300912Z"
    }
   },
   "outputs": [
    {
     "name": "stdout",
     "output_type": "stream",
     "text": [
      "Total main episodes 1463\n",
      "Most recent main episode [J68gMp9nVE0] Joe Rogan Experience #1564 - Adam Alter\n"
     ]
    }
   ],
   "source": [
    "main_eps = sort_newest([e for e in episodes if e.is_main_episode])\n",
    "print(\"Total main episodes\", len(main_eps))\n",
    "print(\"Most recent main episode\", main_eps[0])"
   ]
  },
  {
   "cell_type": "code",
   "execution_count": null,
   "metadata": {},
   "outputs": [],
   "source": [
    "### Missing Main Video Data (uploads.json)"
   ]
  },
  {
   "cell_type": "code",
   "execution_count": null,
   "metadata": {},
   "outputs": [],
   "source": [
    "### Missing Captions"
   ]
  },
  {
   "cell_type": "code",
   "execution_count": 29,
   "metadata": {
    "ExecuteTime": {
     "end_time": "2020-11-27T18:14:02.722208Z",
     "start_time": "2020-11-27T18:14:02.665737Z"
    }
   },
   "outputs": [
    {
     "name": "stdout",
     "output_type": "stream",
     "text": [
      "Total downloaded videos 2424\n",
      "Downloaded videos that are main episodes 1436\n",
      "Missing eps 27\n"
     ]
    },
    {
     "data": {
      "text/plain": [
       "[[J68gMp9nVE0] Joe Rogan Experience #1564 - Adam Alter,\n",
       " [th17n7kjBYg] Joe Rogan Experience #1563 - Tony Hinchcliffe,\n",
       " [5PrLGhJnO7I] Joe Rogan Experience #1562 - Dave Smith,\n",
       " [C8M1ZRYt-2Q] Joe Rogan Experience #1561 - Kermit Pattison,\n",
       " [jH4dl2coorM] Joe Rogan Experience #1560 - Mike Baker,\n",
       " [surnFz_pZE4] Joe Rogan Experience #1559 - Steven Rinella,\n",
       " [OaTKaHKCAFg] Joe Rogan Experience #1558 - Tristan Harris,\n",
       " [4ugp6FBq6E0] Joe Rogan Experience #1557 - Gad Saad,\n",
       " [t0rcLsoIKgA] Joe Rogan Experience #1556 - Glenn Greenwald,\n",
       " [jdVso9FSkmE] Joe Rogan Experience #1555 - Alex Jones & Tim Dillon,\n",
       " [qxOeWuAHOiw] Joe Rogan Experience #1554 - Kanye West,\n",
       " [cz0ka4DuxPw] Joe Rogan Experience #1553 - Maynard James Keenan,\n",
       " [BBCl9A9NlRw] Joe Rogan Experience #1552 - Matthew McConaughey,\n",
       " [s8tJ-R28HX8] Joe Rogan Experience #1551 - Paul Saladino,\n",
       " [a_7s1EKhSwo] Joe Rogan Experience #1550 - Wesley Hunt,\n",
       " [-D2bNqpLbtE] Joe Rogan Experience #1549 - Tom Papa,\n",
       " [wC5TVZ3p_H4] Joe Rogan Experience #1548 - Roy Jones Jr.,\n",
       " [ckjwkCbGIu8] Joe Rogan Experience #1547 - Colin Quinn,\n",
       " [A9PfeA9qFp8] Joe Rogan Experience #1546 - Evan Hafer & Mat Best,\n",
       " [j-bSjzIPRro] Joe Rogan Experience #1545 - W. Keith Campbell,\n",
       " [ikJq6wcgrXI] Joe Rogan Experience #1544 - Tim Dillon,\n",
       " [gzAQ7SklDxo] Joe Rogan Experience #1543 - Brian Muraresku & Graham Hancock,\n",
       " [EURQLMDNdw8] Joe Rogan Experience #1542 - Cameron Hanes,\n",
       " [DYpotjw_KTw] Joe Rogan Experience #1541 - Bridget Phetasy,\n",
       " [Kv3dsPkTvhY] Joe Rogan Experience #1540 - Frank von Hippel,\n",
       " [LNw8cGy7R_s] Joe Rogan Experience #674 - Brian Redban,\n",
       " [0swiKKUHIiU] Joe Rogan Experience #572 - Dom Irrera]"
      ]
     },
     "execution_count": 29,
     "metadata": {},
     "output_type": "execute_result"
    }
   ],
   "source": [
    "# Screen Time\n",
    "AVGS_LOCATION = \"averages_scale.25.0_color\"\n",
    "video_files = list(glob(\"/Volumes/JRE/jre-bucket/jre/videos/*.mp4\"))\n",
    "video_files_ids = [v[-15:-4] for v in video_files]\n",
    "downloaded_main = [e for e in main_eps if e.video_id in video_files_ids]\n",
    "missing_videos = sort_newest(list(set(main_eps) - set(downloaded_main)))\n",
    "\n",
    "print(\"Total downloaded videos\", len(video_files))\n",
    "print(\"Downloaded videos that are main episodes\", len(downloaded_main))\n",
    "print(\"Missing eps\", len(missing_videos))\n",
    "missing_videos"
   ]
  },
  {
   "cell_type": "code",
   "execution_count": null,
   "metadata": {},
   "outputs": [],
   "source": [
    "### Missing Videos\n",
    "### Missing Video Cluster Images"
   ]
  },
  {
   "cell_type": "code",
   "execution_count": null,
   "metadata": {},
   "outputs": [],
   "source": [
    "### Missing Guest Data\n",
    "set([e.guests for e in episodes])"
   ]
  }
 ],
 "metadata": {
  "kernelspec": {
   "display_name": "Python 3",
   "language": "python",
   "name": "python3"
  },
  "language_info": {
   "codemirror_mode": {
    "name": "ipython",
    "version": 3
   },
   "file_extension": ".py",
   "mimetype": "text/x-python",
   "name": "python",
   "nbconvert_exporter": "python",
   "pygments_lexer": "ipython3",
   "version": "3.7.4"
  }
 },
 "nbformat": 4,
 "nbformat_minor": 4
}
