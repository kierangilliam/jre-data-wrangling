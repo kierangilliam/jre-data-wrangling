{
 "cells": [
  {
   "cell_type": "code",
   "execution_count": 1,
   "metadata": {
    "ExecuteTime": {
     "end_time": "2020-11-26T23:49:12.534435Z",
     "start_time": "2020-11-26T23:49:11.626744Z"
    }
   },
   "outputs": [],
   "source": [
    "import numpy as np\n",
    "import cv2\n",
    "from matplotlib import pyplot as plt\n",
    "from IPython.display import Video\n",
    "import plotly.express as px\n",
    "import pandas as pd\n",
    "import time\n",
    "import os\n",
    "import pickle\n",
    "from tqdm import tqdm\n",
    "from math import floor"
   ]
  },
  {
   "cell_type": "code",
   "execution_count": 2,
   "metadata": {
    "ExecuteTime": {
     "end_time": "2020-11-26T23:49:12.538600Z",
     "start_time": "2020-11-26T23:49:12.536427Z"
    }
   },
   "outputs": [],
   "source": [
    "WEBSITE = \"../data/jre/website/\"\n",
    "# TODO How to estimate bandwidth for 2d data?\n",
    "BANDWIDTH = .1\n",
    "AVGS_LOCATION = \"averages_scale.25.0_color\""
   ]
  },
  {
   "cell_type": "code",
   "execution_count": 3,
   "metadata": {
    "ExecuteTime": {
     "end_time": "2020-11-26T23:49:12.546978Z",
     "start_time": "2020-11-26T23:49:12.542963Z"
    }
   },
   "outputs": [],
   "source": [
    "def show_frame_from(ep, frame_no):\n",
    "    video_name = [v for v in video_files if ep.title in v][0]\n",
    "    cap = cv2.VideoCapture(video_name)\n",
    "    fps = cap.get(cv2.CAP_PROP_FPS)\n",
    "    cap.set(cv2.CAP_PROP_POS_FRAMES, frame_no)    \n",
    "    plt.title(as_timestamp(frame_no, fps))\n",
    "    _, frame = cap.read()\n",
    "    plt.imshow(frame)\n",
    "    cap.release()\n",
    "    \n",
    "def as_timestamp(frame_no, fps):\n",
    "    sec = frame_no / fps\n",
    "    return f\"{floor(sec / 60 / 60)}:{floor(sec / 60) % 60}:{round(sec % 60, 1)}\"    "
   ]
  },
  {
   "cell_type": "code",
   "execution_count": 4,
   "metadata": {
    "ExecuteTime": {
     "end_time": "2020-11-26T23:49:13.420123Z",
     "start_time": "2020-11-26T23:49:12.548535Z"
    }
   },
   "outputs": [
    {
     "name": "stderr",
     "output_type": "stream",
     "text": [
      "/Library/Frameworks/Python.framework/Versions/3.7/lib/python3.7/site-packages/sklearn/utils/deprecation.py:143: FutureWarning: The sklearn.neighbors.kde module is  deprecated in version 0.22 and will be removed in version 0.24. The corresponding classes / functions should instead be imported from sklearn.neighbors. Anything that cannot be imported from sklearn.neighbors is now part of the private API.\n",
      "  warnings.warn(message, FutureWarning)\n"
     ]
    }
   ],
   "source": [
    "from sklearn.cluster import MeanShift, estimate_bandwidth, KMeans, DBSCAN\n",
    "from sklearn.neighbors.kde import KernelDensity\n",
    "from scipy.signal import argrelextrema\n",
    "\n",
    "def kde_cluster(Xdf, kernel=\"gaussian\", bandwidth=10, plot=False):\n",
    "    \"\"\"\n",
    "    Uses KDE to create clusters out of word vecs\n",
    "    \"\"\"\n",
    "    X = np.array(Xdf['x'])\n",
    "    X = X.reshape(-1, 1)\n",
    "\n",
    "    # TODO There is probably bias at the boundaries, should mirror X\n",
    "    kde = KernelDensity(kernel=kernel, bandwidth=bandwidth).fit(X)\n",
    "    s = np.linspace(0, np.max(X)*1.5)\n",
    "    e = kde.score_samples(s.reshape(-1, 1))\n",
    "\n",
    "    # Reshape back to a 1 by N array\n",
    "    X = X.reshape(1, -1)\n",
    "\n",
    "    minima = argrelextrema(e, np.less)[0]\n",
    "    # Use the linspace to convert back into word indexes\n",
    "    minima = [s[m] for m in minima]\n",
    "    # (0, minima 1), (minima 1, minima 2), ... (minima n-1, minima n), (minima n, end)\n",
    "    minima_pairs = list(zip(np.insert(minima, 0, 0), np.append(minima, s[-1])))\n",
    "\n",
    "    clusters = [\n",
    "      np.unique(X[np.logical_and(X >= m1, X < m2)]) for m1, m2 in minima_pairs\n",
    "    ]\n",
    "\n",
    "    if plot:\n",
    "        plt.plot(s, e)\n",
    "        plt.show()\n",
    "        print(f\"Number of clusters: {len(clusters)}\")\n",
    "        for c in clusters:\n",
    "            print(\"\\t\", len(c), np.unique([int(x) for x in c]))\n",
    "\n",
    "    return clusters\n",
    "\n",
    "# Store frame numbers in the clusters instead of the average of the last frame\n",
    "def frame_idxs_clusters(avg_clusters, df):\n",
    "    df['cluster'] = np.full_like((len(avg_clusters)), -1)\n",
    "\n",
    "    for cluster_number, c in enumerate(avg_clusters):\n",
    "        cluster_cond = (df['x'] >= np.min(c)) & (df['x'] <= np.max(c))\n",
    "        df.loc[cluster_cond, 'cluster'] = cluster_number\n",
    "  \n",
    "    return df"
   ]
  },
  {
   "cell_type": "code",
   "execution_count": 5,
   "metadata": {
    "ExecuteTime": {
     "end_time": "2020-11-26T23:49:19.045552Z",
     "start_time": "2020-11-26T23:49:13.421591Z"
    }
   },
   "outputs": [
    {
     "name": "stdout",
     "output_type": "stream",
     "text": [
      "Number of loaded episodes: 2455\n"
     ]
    }
   ],
   "source": [
    "CACHE = \"./jre-episodes.pickle\"\n",
    "\n",
    "with open(CACHE, \"rb\") as f:\n",
    "    episodes = pickle.load(f)\n",
    "\n",
    "print(f\"Number of loaded episodes: {len(episodes)}\")"
   ]
  },
  {
   "cell_type": "markdown",
   "metadata": {},
   "source": [
    "## Load Averages "
   ]
  },
  {
   "cell_type": "code",
   "execution_count": 6,
   "metadata": {
    "ExecuteTime": {
     "end_time": "2020-11-26T23:49:27.576430Z",
     "start_time": "2020-11-26T23:49:19.047459Z"
    }
   },
   "outputs": [],
   "source": [
    "import re\n",
    "AVERAGES = f\"../data/jre/{AVGS_LOCATION}\"\n",
    "\n",
    "for file in os.listdir(AVERAGES):\n",
    "    matches = re.search(r\"-([A-Za-z0-9-_]*).npy\", file)\n",
    "    video_id = matches[1][-11:]\n",
    "    \n",
    "    try:\n",
    "        episode = [e for e in episodes if e.video_id == video_id][0]\n",
    "        episode.video_averages = np.load(\n",
    "            f\"{AVERAGES}/{file}\", allow_pickle=True\n",
    "        )\n",
    "    except Exception as e:\n",
    "        print(\"Could not load video average data for \", video_id)"
   ]
  },
  {
   "cell_type": "markdown",
   "metadata": {
    "ExecuteTime": {
     "end_time": "2020-11-26T01:41:20.391212Z",
     "start_time": "2020-11-26T01:41:20.359299Z"
    }
   },
   "source": [
    "Main episodes vs main episodes with video averages"
   ]
  },
  {
   "cell_type": "code",
   "execution_count": 7,
   "metadata": {
    "ExecuteTime": {
     "end_time": "2020-11-26T23:49:27.630802Z",
     "start_time": "2020-11-26T23:49:27.581619Z"
    }
   },
   "outputs": [
    {
     "data": {
      "text/plain": [
       "(1463, 1431)"
      ]
     },
     "execution_count": 7,
     "metadata": {},
     "output_type": "execute_result"
    }
   ],
   "source": [
    "eps = [ep for ep in episodes if ep.video_averages is not None and ep.is_main_episode]\n",
    "len([ep for ep in episodes if ep.is_main_episode]), len(eps)"
   ]
  },
  {
   "cell_type": "markdown",
   "metadata": {},
   "source": [
    "### Generate Clusters For Each Episode"
   ]
  },
  {
   "cell_type": "code",
   "execution_count": 8,
   "metadata": {
    "ExecuteTime": {
     "end_time": "2020-11-26T23:49:27.648015Z",
     "start_time": "2020-11-26T23:49:27.636362Z"
    }
   },
   "outputs": [],
   "source": [
    "def get_frame_count(ep):\n",
    "    try:\n",
    "        video_name = [v for v in video_files if ep.title in v][0]\n",
    "    except IndexError as e:\n",
    "        print(\"Could not find video\", ep)\n",
    "        raise e\n",
    "\n",
    "    cap = cv2.VideoCapture(video_name)\n",
    "    frames = int(cap.get(cv2.CAP_PROP_FRAME_COUNT))\n",
    "    fps = cap.get(cv2.CAP_PROP_FPS)\n",
    "    cap.release()\n",
    "    return frames, fps\n",
    "\n",
    "def create_episode_clusters():\n",
    "    pd.options.mode.chained_assignment = None  # default='warn'\n",
    "\n",
    "    episode_clusters = []\n",
    "    for ep in tqdm(eps):\n",
    "        averages, total_frames = ep.video_averages\n",
    "        df = pd.DataFrame({\n",
    "          'x': averages,\n",
    "          'n': range(len(averages)),\n",
    "        })\n",
    "\n",
    "        avg_clusters = kde_cluster(df, bandwidth=BANDWIDTH, plot=False)\n",
    "        df = frame_idxs_clusters(avg_clusters, df)\n",
    "\n",
    "        clusters = {}\n",
    "        curr_cluster = df['cluster'][0]        \n",
    "        playhead_start = 0\n",
    "        skip_amount = total_frames / len(averages)\n",
    "        playhead = lambda cluster_idx: (cluster_idx * skip_amount) / total_frames\n",
    "        \n",
    "        for i, cluster_num in enumerate(df['cluster']):\n",
    "            if cluster_num != curr_cluster:\n",
    "                clusters[curr_cluster] = clusters.get(curr_cluster, []) + [(playhead_start, playhead(i - 1))]\n",
    "                playhead_start = playhead(i)\n",
    "                curr_cluster = cluster_num\n",
    "                \n",
    "        episode_clusters.append((ep, clusters))\n",
    "        \n",
    "    return episode_clusters"
   ]
  },
  {
   "cell_type": "code",
   "execution_count": 9,
   "metadata": {
    "ExecuteTime": {
     "end_time": "2020-11-27T00:03:24.974099Z",
     "start_time": "2020-11-26T23:49:27.650636Z"
    }
   },
   "outputs": [
    {
     "name": "stderr",
     "output_type": "stream",
     "text": [
      "100%|██████████| 1431/1431 [13:42<00:00,  1.74it/s]\n"
     ]
    }
   ],
   "source": [
    "CACHE = f\"./episode-clusters___{AVGS_LOCATION}.pkl\"\n",
    "LOAD = True\n",
    "# LOAD = False\n",
    "\n",
    "episode_clusters = []\n",
    "\n",
    "if LOAD:\n",
    "    with open(CACHE, \"rb\") as f:\n",
    "        episode_clusters = pickle.load(f)\n",
    "else:\n",
    "    episode_clusters = create_episode_clusters()\n",
    "    with open(CACHE, \"wb\") as f:\n",
    "        pickle.dump(episode_clusters, f)"
   ]
  },
  {
   "cell_type": "markdown",
   "metadata": {},
   "source": [
    "# Generate pie data"
   ]
  },
  {
   "cell_type": "code",
   "execution_count": 14,
   "metadata": {
    "ExecuteTime": {
     "end_time": "2020-11-27T00:04:04.897271Z",
     "start_time": "2020-11-27T00:04:04.601133Z"
    }
   },
   "outputs": [
    {
     "data": {
      "text/plain": [
       "1431"
      ]
     },
     "execution_count": 14,
     "metadata": {},
     "output_type": "execute_result"
    }
   ],
   "source": [
    "pie_rows = []\n",
    "for ep, cluster_timestamps in episode_clusters:\n",
    "    data = {}\n",
    "    for i, t in cluster_timestamps.items():\n",
    "        data[i] = 0\n",
    "        for start, end in t:\n",
    "            data[i] += end - start\n",
    "\n",
    "    pie_rows.append([ep.video_id, dict(data)])\n",
    "            \n",
    "pie_data = pd.DataFrame(pie_rows, columns=[\"id\", \"data\"])\n",
    "pie_data.to_csv(WEBSITE + \"screen_time.csv\")\n",
    "len(pie_data)"
   ]
  },
  {
   "cell_type": "markdown",
   "metadata": {},
   "source": [
    "# Get pictures for each cluster"
   ]
  },
  {
   "cell_type": "code",
   "execution_count": 15,
   "metadata": {
    "ExecuteTime": {
     "end_time": "2020-11-27T00:15:01.987139Z",
     "start_time": "2020-11-27T00:04:12.931698Z"
    }
   },
   "outputs": [
    {
     "name": "stderr",
     "output_type": "stream",
     "text": [
      " 10%|█         | 149/1431 [00:56<10:07,  2.11it/s]"
     ]
    },
    {
     "name": "stdout",
     "output_type": "stream",
     "text": [
      "Could not find video [Dq4Apc2Xk7Q] Joe Rogan Experience #1389 - Chris Kresser Debunks \"The Gamechangers\" Documentary\n"
     ]
    },
    {
     "name": "stderr",
     "output_type": "stream",
     "text": [
      " 19%|█▉        | 275/1431 [01:52<08:23,  2.30it/s]"
     ]
    },
    {
     "name": "stdout",
     "output_type": "stream",
     "text": [
      "Could not find video [UAGZcGi1OP8] Joe Rogan Experience #1263 - Renée DiResta\n"
     ]
    },
    {
     "name": "stderr",
     "output_type": "stream",
     "text": [
      " 23%|██▎       | 333/1431 [02:17<10:02,  1.82it/s]"
     ]
    },
    {
     "name": "stdout",
     "output_type": "stream",
     "text": [
      "Could not find video [9DxeMowxDTU] Joe Rogan Experience #1205 - Jake \"The Snake\" Roberts & Tony Hinchcliffe\n"
     ]
    },
    {
     "name": "stderr",
     "output_type": "stream",
     "text": [
      " 38%|███▊      | 550/1431 [03:57<07:10,  2.05it/s]"
     ]
    },
    {
     "name": "stdout",
     "output_type": "stream",
     "text": [
      "Could not find video [Ii0PKGLAdyE] Joe Rogan Experience #669 - Joey Diaz   **Re-Upload**\n"
     ]
    },
    {
     "name": "stderr",
     "output_type": "stream",
     "text": [
      " 43%|████▎     | 609/1431 [04:26<07:27,  1.84it/s]"
     ]
    },
    {
     "name": "stdout",
     "output_type": "stream",
     "text": [
      "Could not find video [WoqIRSZ818M] Joe Rogan Experience #929 - Dan Peña\n"
     ]
    },
    {
     "name": "stderr",
     "output_type": "stream",
     "text": [
      " 62%|██████▏   | 891/1431 [06:48<04:45,  1.89it/s]"
     ]
    },
    {
     "name": "stdout",
     "output_type": "stream",
     "text": [
      "Could not find video [xtwl-lu6goE] Joe Rogan Experience #643 - \"Big\" Jay Oakerson\n"
     ]
    },
    {
     "name": "stderr",
     "output_type": "stream",
     "text": [
      " 65%|██████▌   | 936/1431 [07:09<03:41,  2.24it/s]"
     ]
    },
    {
     "name": "stdout",
     "output_type": "stream",
     "text": [
      "Could not find video [By-zQN2g0DE] Joe Rogan Experience #598 - Joey \"CoCo\" Diaz\n"
     ]
    },
    {
     "name": "stderr",
     "output_type": "stream",
     "text": [
      " 71%|███████▏  | 1023/1431 [07:57<03:05,  2.20it/s]"
     ]
    },
    {
     "name": "stdout",
     "output_type": "stream",
     "text": [
      "Could not find video [VetG5f6GJMk] Joe Rogan Experience #513 - Joey \"CoCo\" Diaz\n"
     ]
    },
    {
     "name": "stderr",
     "output_type": "stream",
     "text": [
      " 77%|███████▋  | 1100/1431 [08:40<03:05,  1.78it/s]"
     ]
    },
    {
     "name": "stdout",
     "output_type": "stream",
     "text": [
      "Could not find video [TjQcaK2Oa4w] Joe Rogan Experience #400 - Joey \"CoCo\" Diaz, Duncan Trussell\n"
     ]
    },
    {
     "name": "stderr",
     "output_type": "stream",
     "text": [
      " 77%|███████▋  | 1108/1431 [08:43<02:59,  1.80it/s]"
     ]
    },
    {
     "name": "stdout",
     "output_type": "stream",
     "text": [
      "Could not find video [i_HqR46dU_8] Joe Rogan Experience #386 - Joey \"CoCo\" Diaz\n"
     ]
    },
    {
     "name": "stderr",
     "output_type": "stream",
     "text": [
      " 78%|███████▊  | 1120/1431 [08:50<03:02,  1.71it/s]"
     ]
    },
    {
     "name": "stdout",
     "output_type": "stream",
     "text": [
      "Could not find video [8CiguIt9Ir0] Joe Rogan Experience #373 - Joey \"CoCo\" Diaz\n"
     ]
    },
    {
     "name": "stderr",
     "output_type": "stream",
     "text": [
      " 79%|███████▉  | 1129/1431 [08:54<02:57,  1.70it/s]"
     ]
    },
    {
     "name": "stdout",
     "output_type": "stream",
     "text": [
      "Could not find video [jkcN-MRgpjc] Joe Rogan Experience #268 - Joey \"CoCo\" Diaz\n"
     ]
    },
    {
     "name": "stderr",
     "output_type": "stream",
     "text": [
      " 79%|███████▉  | 1134/1431 [08:57<02:39,  1.87it/s]"
     ]
    },
    {
     "name": "stdout",
     "output_type": "stream",
     "text": [
      "Could not find video [A0C1b-r59v0] Joe Rogan Experience #262 - \"Freeway\" Rick Ross\n"
     ]
    },
    {
     "name": "stderr",
     "output_type": "stream",
     "text": [
      " 80%|████████  | 1148/1431 [09:03<02:14,  2.11it/s]"
     ]
    },
    {
     "name": "stdout",
     "output_type": "stream",
     "text": [
      "Could not find video [KcUW1oVLQnE] Joe Rogan Experience #250 - Joey \"CoCo\" Diaz\n"
     ]
    },
    {
     "name": "stderr",
     "output_type": "stream",
     "text": [
      " 81%|████████  | 1154/1431 [09:05<02:10,  2.12it/s]"
     ]
    },
    {
     "name": "stdout",
     "output_type": "stream",
     "text": [
      "Could not find video [x3e-qoH1_3g] Joe Rogan Experience #241 - James \"Bobo\" Fay\n"
     ]
    },
    {
     "name": "stderr",
     "output_type": "stream",
     "text": [
      " 87%|████████▋ | 1247/1431 [09:48<01:26,  2.13it/s]"
     ]
    },
    {
     "name": "stdout",
     "output_type": "stream",
     "text": [
      "Could not find video [E39Ez358jcM] Joe Rogan Experience #325 - James \"The Colossus\" Thompson\n"
     ]
    },
    {
     "name": "stderr",
     "output_type": "stream",
     "text": [
      " 89%|████████▉ | 1271/1431 [09:59<01:35,  1.67it/s]"
     ]
    },
    {
     "name": "stdout",
     "output_type": "stream",
     "text": [
      "Could not find video [8fEN8g6cGCw] Joe Rogan Experience #323 - \"Freeway\" Rick Ross\n"
     ]
    },
    {
     "name": "stderr",
     "output_type": "stream",
     "text": [
      "100%|██████████| 1431/1431 [10:49<00:00,  2.20it/s]\n"
     ]
    }
   ],
   "source": [
    "import cv2\n",
    "from glob import glob\n",
    "import imutils\n",
    "\n",
    "video_files = list(glob(\"/Volumes/JRE/jre-bucket/jre/videos/*.mp4\"))\n",
    "\n",
    "BLACK_AND_WHITE = True\n",
    "RESCALE_AMOUNT = .75\n",
    "\n",
    "def rescale_frame(frame, amount=.75):\n",
    "    width = int(frame.shape[1] * amount)\n",
    "    height = int(frame.shape[0] * amount)\n",
    "    dim = (width, height)\n",
    "    return cv2.resize(frame, dim, interpolation =cv2.INTER_AREA)\n",
    "\n",
    "video_cluster_images = {}\n",
    "total = 0\n",
    "for ep, cluster_timestamps in tqdm(episode_clusters):\n",
    "    video_cluster_images[ep] = {}\n",
    "    \n",
    "    try:\n",
    "        video_name = [v for v in video_files if ep.title in v][0]\n",
    "    except IndexError as e:\n",
    "        print(\"Could not find video\", ep)\n",
    "        continue\n",
    "    \n",
    "    # Get a frame for the middle of each cluster timestamp\n",
    "    for i, t in cluster_timestamps.items():\n",
    "        cap = cv2.VideoCapture(video_name)\n",
    "        frames = int(cap.get(cv2.CAP_PROP_FRAME_COUNT))\n",
    "        fps = cap.get(cv2.CAP_PROP_FPS)\n",
    "       \n",
    "        # Get the segment in the cluster with the longest time on that shot\n",
    "        start, end = t[np.argmax([e - s for s, e in t])]\n",
    "        middle = (end - start) / 2 + start\n",
    "        # Don't get pictures for items with less than 1% of the total time\n",
    "        if end - start < .01:            \n",
    "            continue\n",
    "        total += 1\n",
    "        \n",
    "        # Read frame        \n",
    "        frame_no = int(frames * middle)\n",
    "        cap.set(cv2.CAP_PROP_POS_FRAMES, frame_no)\n",
    "        \n",
    "        averages, _ = ep.video_averages\n",
    "        \n",
    "        ret, frame = cap.read()                \n",
    "\n",
    "        frame = rescale_frame(frame, amount=RESCALE_AMOUNT)\n",
    "        if BLACK_AND_WHITE: frame = cv2.cvtColor(frame, cv2.COLOR_BGR2GRAY)\n",
    "            \n",
    "        video_cluster_images[ep][i] = {'frame':frame, 'frame_no':frame_no, 'frames':frames, 'fps':fps}        \n",
    "        \n",
    "        cap.release()"
   ]
  },
  {
   "cell_type": "code",
   "execution_count": 16,
   "metadata": {
    "ExecuteTime": {
     "end_time": "2020-11-27T00:15:02.003177Z",
     "start_time": "2020-11-27T00:15:01.991104Z"
    }
   },
   "outputs": [
    {
     "data": {
      "text/plain": [
       "1431"
      ]
     },
     "execution_count": 16,
     "metadata": {},
     "output_type": "execute_result"
    }
   ],
   "source": [
    "len(video_cluster_images)"
   ]
  },
  {
   "cell_type": "markdown",
   "metadata": {
    "ExecuteTime": {
     "end_time": "2020-11-26T02:58:35.925021Z",
     "start_time": "2020-11-26T02:58:35.920984Z"
    }
   },
   "source": [
    "## Save Images"
   ]
  },
  {
   "cell_type": "code",
   "execution_count": 17,
   "metadata": {
    "ExecuteTime": {
     "end_time": "2020-11-27T00:15:06.069820Z",
     "start_time": "2020-11-27T00:15:02.007991Z"
    }
   },
   "outputs": [],
   "source": [
    "for ep, clusters in video_cluster_images.items():\n",
    "    for cluster_n, image in clusters.items():\n",
    "        cv2.imwrite(f\"{WEBSITE}/images/{ep.video_id}.cluster.{cluster_n}.jpg\", image['frame'])"
   ]
  },
  {
   "cell_type": "markdown",
   "metadata": {},
   "source": [
    "## View Images\n",
    "Image is shown above scatterplot\n",
    "Its corressponding cluster is highlighted in green\n",
    "The orange dot indicates the frame it was taken from"
   ]
  },
  {
   "cell_type": "code",
   "execution_count": null,
   "metadata": {
    "ExecuteTime": {
     "end_time": "2020-11-27T00:03:58.641381Z",
     "start_time": "2020-11-27T00:03:40.672Z"
    }
   },
   "outputs": [],
   "source": [
    "from ipywidgets import interact, IntSlider, Dropdown\n",
    "%matplotlib inline\n",
    "from ipywidgets.widgets.interaction import show_inline_matplotlib_plots\n",
    "import ipywidgets as widgets\n",
    "from IPython.display import clear_output\n",
    "\n",
    "def show_video_segments():\n",
    "    def get_title(ep, cluster, timestamp):\n",
    "        try:\n",
    "            percentage = pie_data.loc[pie_data['id'] == ep.video_id]['data'].iloc[0][cluster]\n",
    "        except Exception as e:\n",
    "            percentage = 0\n",
    "            print(\"Could not get percentage for\", ep.number)\n",
    "        return f\"{ep.title} -- {cluster} ({round(percentage * 100)}%, {timestamp})\"\n",
    "    \n",
    "    cluster = choose_cluster.value        \n",
    "    ep, cluster_images = list(video_cluster_images.items())[ep_slider.value]\n",
    "    img = cluster_images[cluster]\n",
    "    \n",
    "    averages = ep.video_averages[0]\n",
    "    df = pd.DataFrame({ 'x': averages, 'n': range(len(averages))})\n",
    "    avg_clusters = kde_cluster(df, bandwidth=BANDWIDTH, plot=False)\n",
    "    df = frame_idxs_clusters(avg_clusters, df)\n",
    "    df['color'] = np.where(df['cluster'] == cluster, 'green', 'black')\n",
    "\n",
    "    with out:\n",
    "        clear_output()                \n",
    "        fig, (img_ax, clus_ax) = plt.subplots(2)\n",
    "        fig.suptitle(get_title(ep, cluster, as_timestamp(img['frame_no'], img['fps'])))        \n",
    "        \n",
    "        # Show frame image\n",
    "        if BLACK_AND_WHITE: img_ax.imshow(img['frame'], cmap='gray')\n",
    "        else: img_ax.imshow(img['frame'])\n",
    "\n",
    "        # Show scatter plot of clusters\n",
    "        # Highlight the frame that was used as orange\n",
    "        clus_ax.scatter(df['x'], y=df['n'], c=df['color'])        \n",
    "        cluster_frame = int(img['frame_no'] / img['frames'] * len(df['color']))\n",
    "        clus_ax.scatter(df.loc[cluster_frame, 'x'], y=df.loc[cluster_frame, 'n'], c='orange')\n",
    "\n",
    "        show_inline_matplotlib_plots()\n",
    "        \n",
    "    \n",
    "def on_cluster_change(change):\n",
    "    show_video_segments()\n",
    "    \n",
    "def on_ep_change(change):\n",
    "    new_x = change['new']\n",
    "    ep, clusters = list(video_cluster_images.items())[new_x]\n",
    "    choose_cluster.options = clusters.keys()\n",
    "    choose_cluster.value = list(clusters.keys())[0]    \n",
    "    show_video_segments()\n",
    "\n",
    "initial_ep = 0\n",
    "\n",
    "out = widgets.Output()\n",
    "display(out)\n",
    "    \n",
    "choose_cluster = Dropdown(description='Cluster:')\n",
    "choose_cluster.observe(on_cluster_change, names='value')\n",
    "\n",
    "ep_slider = IntSlider(min=0, max=len(video_cluster_images) - 1)\n",
    "ep_slider.observe(on_ep_change, names='value')\n",
    "ep_slider.value = initial_ep\n",
    "on_ep_change({'new': initial_ep})\n",
    "\n",
    "display(ep_slider, choose_cluster)"
   ]
  },
  {
   "cell_type": "markdown",
   "metadata": {},
   "source": [
    "# Useful for checking out output of kde \n",
    "...With different values for the bandwidth"
   ]
  },
  {
   "cell_type": "code",
   "execution_count": null,
   "metadata": {
    "ExecuteTime": {
     "end_time": "2020-11-27T00:03:58.642692Z",
     "start_time": "2020-11-27T00:03:40.674Z"
    },
    "scrolled": true
   },
   "outputs": [],
   "source": [
    "import plotly as py\n",
    "import plotly.graph_objs as go\n",
    "from ipywidgets import interact, IntSlider\n",
    "py.offline.init_notebook_mode(connected = True)\n",
    "\n",
    "bandwidth = BANDWIDTH\n",
    "bandwidth = .1\n",
    "frame_no = 4592\n",
    "\n",
    "def show_frame_from(ep, frame_no):\n",
    "    video_name = [v for v in video_files if ep.video_id in v][0]\n",
    "    cap = cv2.VideoCapture(video_name)\n",
    "    fps = cap.get(cv2.CAP_PROP_FPS)\n",
    "    cap.set(cv2.CAP_PROP_POS_FRAMES, frame_no)    \n",
    "    plt.title(as_timestamp(frame_no, fps))\n",
    "    _, frame = cap.read()\n",
    "    plt.imshow(frame)\n",
    "    cap.release()\n",
    "\n",
    "def show_frame_averages(x):\n",
    "    df = pd.DataFrame({\n",
    "      'x': eps[x].video_averages[0],\n",
    "      'n': range(len(eps[x].video_averages[0])),\n",
    "    })\n",
    "    \n",
    "    avg_clusters = kde_cluster(df, plot=False, bandwidth=bandwidth)\n",
    "\n",
    "    df = frame_idxs_clusters(avg_clusters, df)\n",
    "    # For a discrete color scale\n",
    "    df['cluster'] = df['cluster'].astype(str)\n",
    "    \n",
    "    show_frame_from(ep, frame_no)\n",
    "\n",
    "    title = f\"{str(eps[x])} {len(df['x'])}\"\n",
    "    fig = px.scatter(df, x='x', color='cluster', title=title)\n",
    "    fig.show()\n",
    "        \n",
    "\n",
    "interact(show_frame_averages, x=IntSlider(value=5, min=0, max=len(eps) - 1))\n"
   ]
  },
  {
   "cell_type": "code",
   "execution_count": null,
   "metadata": {},
   "outputs": [],
   "source": []
  }
 ],
 "metadata": {
  "kernelspec": {
   "display_name": "Python 3",
   "language": "python",
   "name": "python3"
  },
  "language_info": {
   "codemirror_mode": {
    "name": "ipython",
    "version": 3
   },
   "file_extension": ".py",
   "mimetype": "text/x-python",
   "name": "python",
   "nbconvert_exporter": "python",
   "pygments_lexer": "ipython3",
   "version": "3.7.4"
  }
 },
 "nbformat": 4,
 "nbformat_minor": 4
}
