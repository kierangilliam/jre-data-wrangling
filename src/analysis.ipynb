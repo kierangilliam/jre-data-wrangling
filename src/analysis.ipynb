{
 "cells": [
  {
   "cell_type": "markdown",
   "metadata": {},
   "source": [
    "Data collection \n",
    "1. TFIDF For all episodes\n",
    "2. Cosine similarity\n",
    "3. Most spoken words"
   ]
  },
  {
   "cell_type": "code",
   "execution_count": 2,
   "metadata": {},
   "outputs": [
    {
     "name": "stdout",
     "output_type": "stream",
     "text": [
      "The autoreload extension is already loaded. To reload it, use:\n",
      "  %reload_ext autoreload\n"
     ]
    }
   ],
   "source": [
    "%load_ext autoreload\n",
    "%autoreload 2"
   ]
  },
  {
   "cell_type": "code",
   "execution_count": 3,
   "metadata": {},
   "outputs": [],
   "source": [
    "import pandas as pd\n",
    "import pickle\n",
    "import numpy as np\n",
    "from tqdm import tqdm\n",
    "from lib.Episode import Episode, EpisodeFactory\n",
    "import json"
   ]
  },
  {
   "cell_type": "code",
   "execution_count": 33,
   "metadata": {},
   "outputs": [],
   "source": [
    "WEBSITE = \"../data/jre/website/\""
   ]
  },
  {
   "cell_type": "code",
   "execution_count": 10,
   "metadata": {
    "tags": []
   },
   "outputs": [
    {
     "name": "stdout",
     "output_type": "stream",
     "text": [
      "Number of loaded episodes: 2455\n"
     ]
    }
   ],
   "source": [
    "CACHE = \"./jre-episodes.pickle\"\n",
    "\n",
    "with open(CACHE, \"rb\") as f:\n",
    "    episodes = pickle.load(f)\n",
    "\n",
    "print(f\"Number of loaded episodes: {len(episodes)}\")"
   ]
  },
  {
   "cell_type": "code",
   "execution_count": 5,
   "metadata": {
    "scrolled": false,
    "tags": []
   },
   "outputs": [
    {
     "name": "stderr",
     "output_type": "stream",
     "text": [
      "100%|██████████| 2455/2455 [04:30<00:00,  9.08it/s]\n"
     ]
    }
   ],
   "source": [
    "from lib.TFIDF import TFIDF\n",
    "from lib.utils import clean_text\n",
    "\n",
    "cleaned_corpus = [(e, clean_text(e.text)) for e in tqdm(episodes) if e.captions is not None]\n",
    "# s2w is the stem 2 word dictionary (saved in a later cell)\n",
    "corpus = [(ep, cleaned) for ep, (cleaned, s2w) in cleaned_corpus]"
   ]
  },
  {
   "cell_type": "code",
   "execution_count": 6,
   "metadata": {
    "tags": []
   },
   "outputs": [
    {
     "name": "stderr",
     "output_type": "stream",
     "text": [
      "100%|██████████| 70059/70059 [00:25<00:00, 2758.40it/s]\n",
      "100%|██████████| 1605/1605 [03:22<00:00,  7.94it/s]\n"
     ]
    }
   ],
   "source": [
    "tfidf = TFIDF()\n",
    "tfidf.generate(corpus)\n",
    "\n",
    "with open(\"tfidf-\" + CACHE[2:], \"wb\") as f:\n",
    "    pickle.dump(tfidf, f)"
   ]
  },
  {
   "cell_type": "code",
   "execution_count": 7,
   "metadata": {
    "tags": []
   },
   "outputs": [
    {
     "name": "stdout",
     "output_type": "stream",
     "text": [
      "[5PrLGhJnO7I] Joe Rogan Experience #1562 - Dave Smith\n",
      "biden 0.05818\n",
      "trump 0.04458\n",
      "donald 0.02456\n",
      "war 0.02365\n",
      "eisenhow 0.01875\n",
      "kamala 0.0173\n",
      "iraq 0.01719\n",
      "berni 0.01524\n",
      "sander 0.01477\n",
      "presid 0.01458\n",
      "\n",
      "[C8M1ZRYt-2Q] Joe Rogan Experience #1561 - Kermit Pattison\n",
      "skeleton 0.11077\n",
      "arti 0.07024\n",
      "fossil 0.06021\n",
      "speci 0.05503\n",
      "canin 0.05235\n",
      "luci 0.04657\n",
      "ethiopia 0.04222\n",
      "ancestor 0.03516\n",
      "neanderth 0.03393\n",
      "geolog 0.03041\n",
      "\n",
      "[surnFz_pZE4] Joe Rogan Experience #1559 - Steven Rinella\n",
      "mammoth 0.01885\n",
      "biden 0.01734\n",
      "d-day 0.01474\n",
      "wolv 0.01438\n",
      "hunt 0.01364\n",
      "baculum 0.01355\n",
      "fossil 0.01321\n",
      "overproduc 0.01263\n",
      "bear 0.0122\n",
      "bone 0.01207\n",
      "\n",
      "[KkjxSKrcbOg] JRE End Of The World #2\n",
      "biden 0.08188\n",
      "pennsylvania 0.06654\n",
      "trump 0.06647\n",
      "vote 0.04906\n",
      "poll 0.03987\n",
      "mail-in 0.02748\n",
      "win 0.02549\n",
      "florida 0.02362\n",
      "elect 0.02322\n",
      "ohio 0.02006\n",
      "\n",
      "[OaTKaHKCAFg] Joe Rogan Experience #1558 - Tristan Harris\n",
      "facebook 0.0467\n",
      "attent 0.02281\n",
      "social 0.02155\n",
      "algorithm 0.01919\n",
      "voodoo 0.01893\n",
      "huxley 0.01873\n",
      "orwel 0.0171\n",
      "dilemma 0.01542\n",
      "media 0.01538\n",
      "ukulel 0.01516\n",
      "\n",
      "[4ugp6FBq6E0] Joe Rogan Experience #1557 - Gad Saad\n",
      "intellectu 0.01846\n",
      "victimolog 0.01642\n",
      "regret 0.01605\n",
      "jillian 0.0142\n",
      "publish 0.01409\n",
      "academ 0.01374\n",
      "biden 0.01314\n",
      "lockdown 0.01296\n",
      "narrat 0.01275\n",
      "parasit 0.01235\n",
      "\n",
      "[t0rcLsoIKgA] Joe Rogan Experience #1556 - Glenn Greenwald\n",
      "snowden 0.03726\n",
      "biden 0.03162\n",
      "journalist 0.02728\n",
      "tran 0.01994\n",
      "martina 0.01875\n",
      "govern 0.01668\n",
      "brazil 0.01584\n",
      "trump 0.01477\n",
      "censorship 0.01455\n",
      "aclu 0.01327\n",
      "\n",
      "[jdVso9FSkmE] Joe Rogan Experience #1555 - Alex Jones & Tim Dillon\n",
      "carbon 0.03558\n",
      "dioxid 0.03272\n",
      "whitmer 0.02874\n",
      "vaccin 0.02714\n",
      "trump 0.0269\n",
      "bohemian 0.02458\n",
      "grove 0.02299\n",
      "polio 0.02289\n",
      "u.n 0.02154\n",
      "elect 0.01761\n",
      "\n",
      "[qxOeWuAHOiw] Joe Rogan Experience #1554 - Kanye West\n",
      "donda 0.02097\n",
      "leader 0.01834\n",
      "gap 0.01631\n",
      "industri 0.01549\n",
      "design 0.01522\n",
      "disney 0.01495\n",
      "three-fifth 0.01407\n",
      "visionari 0.01403\n",
      "covet 0.01379\n",
      "deconstruct 0.01345\n",
      "\n",
      "[cz0ka4DuxPw] Joe Rogan Experience #1553 - Maynard James Keenan\n",
      "wine 0.03615\n",
      "omen 0.01919\n",
      "pasta 0.01802\n",
      "winemak 0.01431\n",
      "cbd 0.01405\n",
      "son-in-law 0.01399\n",
      "bcn 0.01295\n",
      "mead 0.01198\n",
      "arizona 0.01135\n",
      "muay 0.01133\n",
      "\n"
     ]
    }
   ],
   "source": [
    "tfidf.print_scores()"
   ]
  },
  {
   "cell_type": "markdown",
   "metadata": {},
   "source": [
    "## Cosine Sim"
   ]
  },
  {
   "cell_type": "code",
   "execution_count": 8,
   "metadata": {},
   "outputs": [],
   "source": [
    "def cosine_similarity(a, b):\n",
    "    dist = lambda tfidf: np.sqrt(np.sum(tfidf * tfidf))\n",
    "    dot_prod = np.dot(a, b)\n",
    "    distances = dist(a) * dist(b)\n",
    "    return dot_prod / distances"
   ]
  },
  {
   "cell_type": "code",
   "execution_count": 18,
   "metadata": {
    "tags": []
   },
   "outputs": [
    {
     "name": "stderr",
     "output_type": "stream",
     "text": [
      "100%|██████████| 2576025/2576025 [04:55<00:00, 8703.71it/s]  \n"
     ]
    }
   ],
   "source": [
    "# Probably the dumbest way to do this\n",
    "tfidf_titles = [e.title for e in tfidf.scores.keys()]\n",
    "index_of_ep = lambda ep: tfidf_titles.index(ep.title)\n",
    "\n",
    "# (ep1, ep2), score\n",
    "cos_sim_matrix = np.zeros((len(episodes), len(episodes)), tuple)\n",
    "\n",
    "for a, b in tqdm([(a, b) for a in tfidf.scores for b in tfidf.scores]):\n",
    "    ai = index_of_ep(a)\n",
    "    bi = index_of_ep(b)\n",
    "    # Only fill half of the matrix\n",
    "    if bi > ai:\n",
    "        continue\n",
    "    cos_sim_matrix[ai][bi] = ((a, b), cosine_similarity(tfidf.scores[a], tfidf.scores[b]))"
   ]
  },
  {
   "cell_type": "code",
   "execution_count": 21,
   "metadata": {
    "tags": []
   },
   "outputs": [
    {
     "name": "stdout",
     "output_type": "stream",
     "text": [
      "[[(([5PrLGhJnO7I] Joe Rogan Experience #1562 - Dave Smith, [5PrLGhJnO7I] Joe Rogan Experience #1562 - Dave Smith), 1.0)\n",
      "  0 0 ... 0 0 0]\n",
      " [(([C8M1ZRYt-2Q] Joe Rogan Experience #1561 - Kermit Pattison, [5PrLGhJnO7I] Joe Rogan Experience #1562 - Dave Smith), 0.07299247913616964)\n",
      "  (([C8M1ZRYt-2Q] Joe Rogan Experience #1561 - Kermit Pattison, [C8M1ZRYt-2Q] Joe Rogan Experience #1561 - Kermit Pattison), 1.0000000000000002)\n",
      "  0 ... 0 0 0]\n",
      " [(([surnFz_pZE4] Joe Rogan Experience #1559 - Steven Rinella, [5PrLGhJnO7I] Joe Rogan Experience #1562 - Dave Smith), 0.27197056928850144)\n",
      "  (([surnFz_pZE4] Joe Rogan Experience #1559 - Steven Rinella, [C8M1ZRYt-2Q] Joe Rogan Experience #1561 - Kermit Pattison), 0.15207300252929887)\n",
      "  (([surnFz_pZE4] Joe Rogan Experience #1559 - Steven Rinella, [surnFz_pZE4] Joe Rogan Experience #1559 - Steven Rinella), 1.0000000000000002)\n",
      "  ... 0 0 0]]\n"
     ]
    },
    {
     "data": {
      "text/plain": [
       "(None, 2455)"
      ]
     },
     "execution_count": 21,
     "metadata": {},
     "output_type": "execute_result"
    }
   ],
   "source": [
    "print(cos_sim_matrix[:3]), len(cos_sim_matrix)"
   ]
  },
  {
   "cell_type": "code",
   "execution_count": 28,
   "metadata": {
    "tags": []
   },
   "outputs": [],
   "source": [
    "cos_sim_list = []\n",
    "\n",
    "# Format as (index, index), similarity\n",
    "for row in cos_sim_matrix:\n",
    "    for item in row:\n",
    "        if item == 0: continue\n",
    "        if a != b:\n",
    "        (a, b), score = item\n",
    "        cos_sim_list.append((a, b, score))"
   ]
  },
  {
   "cell_type": "code",
   "execution_count": 31,
   "metadata": {
    "tags": []
   },
   "outputs": [
    {
     "name": "stdout",
     "output_type": "stream",
     "text": [
      "Most similar podcast episodes\n",
      "=============================\n",
      "\n",
      "[c6bjKNHVS8M] Joe Rogan Experience #94 - Joey Diaz (Part 2)\n",
      "[dqMH6h2W8_Q] Joe Rogan Experience #94 - Joey Diaz (Part 3)\n",
      "\t88.62%\n",
      "\n",
      "[llhb2ymtsw8] Joe Rogan Experience #1302 - Ed Calderon\n",
      "[xPBejhoKlb8] Joe Rogan Experience #1408 - Ed Calderon\n",
      "\t80.91000000000001%\n",
      "\n",
      "[by1OgqQQANg] Joe Rogan Experience #1002 - Peter Schiff\n",
      "[3u7kDfEtKfs] Joe Rogan Experience #1145 - Peter Schiff\n",
      "\t76.68%\n",
      "\n",
      "[keSoSyu9m7c] Joe Rogan Experience #994 - Dom D'Agostino\n",
      "[u93oh9kC-rU] Joe Rogan Experience #1176 - Dom D'Agostino & Layne Norton\n",
      "\t71.14%\n",
      "\n",
      "[Dq4Apc2Xk7Q] Joe Rogan Experience #1389 - Chris Kresser Debunks \"The Gamechangers\" Documentary\n",
      "[s0zgNY_kqlI] Joe Rogan Experience #1393 - James Wilks & Chris Kresser - The Game Changers Debate\n",
      "\t67.94%\n",
      "\n",
      "[mPqWstVnRjQ] Joe Rogan Experience #1035 - Paul Stamets\n",
      "[xJ6Ym719urg] Joe Rogan Experience #1385 - Paul Stamets\n",
      "\t67.75%\n",
      "\n",
      "[ZtxzMb9CpTM] Joe Rogan Experience #1151 - Sean Carroll\n",
      "[TP5W2MG8Jjs] Joe Rogan Experience #1352 - Sean Carroll\n",
      "\t67.24%\n",
      "\n",
      "[fE3SOIKO9pg] Joe Rogan Experience #1076 - Phil Demers\n",
      "[QmfFbwZcVx4] Joe Rogan Experience #1297 - Phil Demers\n",
      "\t67.07%\n",
      "\n",
      "[0mBDcyX6WGk] Joe Rogan Experience #1013 - Cameron Hanes\n",
      "[qEcWyjJ20k0] Joe Rogan Experience #1365 - Cameron Hanes\n",
      "\t63.09%\n",
      "\n",
      "[3u7kDfEtKfs] Joe Rogan Experience #1145 - Peter Schiff\n",
      "[OK2zgeJLVwU] Joe Rogan Experience #1508 - Peter Schiff\n",
      "\t62.53999999999999%\n",
      "\n"
     ]
    }
   ],
   "source": [
    "print(\"Most similar podcast episodes\")\n",
    "print(\"=============================\\n\")\n",
    "cos_sim_list = sorted(cos_sim_list, key=lambda x: x[2], reverse=True)\n",
    "for a, b, score in cos_sim_list[:50]:\n",
    "    if a.is_main_episode and b.is_main_episode and a != b:\n",
    "        print(a)\n",
    "        print(b)\n",
    "        print(f\"\\t{round(score, 4) * 100}%\")\n",
    "        print()"
   ]
  },
  {
   "cell_type": "code",
   "execution_count": 35,
   "metadata": {},
   "outputs": [],
   "source": [
    "cos_sim_table = pd.DataFrame(\n",
    "    [(a.video_id, b.video_id, s) for a,b,s in cos_sim_list], \n",
    "    columns=[\"id1\", \"id2\", \"similarity\"],\n",
    ")\n",
    "cos_sim_table.to_csv(WEBSITE + \"cosine_similarity.csv\")"
   ]
  },
  {
   "cell_type": "markdown",
   "metadata": {},
   "source": [
    "## CFD Episodes in bins of 10 and by themselves"
   ]
  },
  {
   "cell_type": "code",
   "execution_count": null,
   "metadata": {},
   "outputs": [],
   "source": [
    "tfidf.cfd[episodes[0].title]"
   ]
  },
  {
   "cell_type": "markdown",
   "metadata": {},
   "source": [
    "## Reverse Stem Data"
   ]
  },
  {
   "cell_type": "code",
   "execution_count": null,
   "metadata": {},
   "outputs": [],
   "source": [
    "reverse_stem = {}\n",
    "for title, (cleaned, s2w) in cleaned_corpus:\n",
    "    reverse_stem.update(s2w)\n",
    "reverse_stem = {stem: list(words) for stem, words in reverse_stem.items()}\n",
    "    \n",
    "with open(WEBSITE + \"reverse_stem.json\", \"w\") as f:\n",
    "    f.write(json.dumps(reverse_stem))"
   ]
  }
 ],
 "metadata": {
  "kernelspec": {
   "display_name": "Python 3",
   "language": "python",
   "name": "python3"
  },
  "language_info": {
   "codemirror_mode": {
    "name": "ipython",
    "version": 3
   },
   "file_extension": ".py",
   "mimetype": "text/x-python",
   "name": "python",
   "nbconvert_exporter": "python",
   "pygments_lexer": "ipython3",
   "version": "3.7.4"
  }
 },
 "nbformat": 4,
 "nbformat_minor": 2
}
