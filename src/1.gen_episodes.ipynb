{
 "cells": [
  {
   "cell_type": "code",
   "execution_count": 1,
   "metadata": {
    "ExecuteTime": {
     "end_time": "2020-11-18T03:31:21.431092Z",
     "start_time": "2020-11-18T03:31:21.268662Z"
    }
   },
   "outputs": [],
   "source": [
    "%load_ext autoreload\n",
    "%autoreload 2"
   ]
  },
  {
   "cell_type": "code",
   "execution_count": 2,
   "metadata": {
    "ExecuteTime": {
     "end_time": "2020-11-18T03:31:42.986587Z",
     "start_time": "2020-11-18T03:31:22.681974Z"
    }
   },
   "outputs": [
    {
     "name": "stdout",
     "output_type": "stream",
     "text": [
      "Generating new pickle ./jre-episodes.pickle...\n",
      "Could not load video average data for  6amtf1-UgY\n",
      "Could not load video average data for  N41VwpDS20\n",
      "Could not load video average data for  _CC3a4bObs\n",
      "Could not load video average data for  z6uMRfxZOk\n",
      "Could not load video average data for  A5PoLSRWeA\n",
      "Could not load video average data for  i9z3SFFq0U\n",
      "Could not load video average data for  3kdmOQlqfQ\n",
      "Could not load video average data for  NkBtY2GRgc\n",
      "Could not load video average data for  bRjjSjG2mU\n",
      "Could not load video average data for  TDScKcwEKk\n",
      "Could not load video average data for  xXoRtRr3WE\n",
      "Could not load video average data for  Zd1W2YNfp8\n",
      "Could not load video average data for  daZ5CfU3kg\n",
      "Could not load video average data for  M0YCuOhwdI\n",
      "Could not load video average data for  Z7j2KFd0D4\n",
      "Could not load video average data for  -nBhFl4UxQ\n",
      "Could not load video average data for  7DZhL85Neg\n",
      "Could not load video average data for  96-scSyoOQ\n",
      "Could not load video average data for  XZn2DkrXig\n",
      "Could not load video average data for  PNkYmdWK8\n",
      "Could not load video average data for  w8dkF-jotk\n",
      "Could not load video average data for  waWilO_Pig\n",
      "Could not load video average data for  qbRepVizzE\n",
      "Could not load video average data for  okrWA2f7-Y\n",
      "Could not load video average data for  Kairs4-bXs\n",
      "Could not load video average data for  SO6-dq33SM\n",
      "Could not load video average data for  coWKxyM5vs\n",
      "Could not load video average data for  O-16J-lCSSMVA\n",
      "Could not load video average data for  5NjiE98tQ\n",
      "Could not load video average data for  x7EjrIrOng\n",
      "Could not load video average data for  IKBxugJLgA\n",
      "Could not load video average data for  MN9usMys18\n",
      "Could not load video average data for  znRgMaGna4\n",
      "Could not load video average data for  HS1u5lqAKk\n",
      "Could not load video average data for  wGTE_bobyA\n",
      "Could not load video average data for  ckXqq4hE4E\n",
      "Could not load video average data for  YmuOQodT2Y\n",
      "Could not load video average data for  ZJwvRcaBaI\n",
      "Could not load video average data for  HEhMAJvf9s\n",
      "Could not load video average data for  KJE2jlqwI8\n",
      "Could not load video average data for  cPr5-27vSI\n",
      "Could not load video average data for  V3miitxG08\n",
      "Could not load video average data for  tbFS2hzW0Q\n",
      "Could not load video average data for  ajP3vESrp4\n",
      "Could not load video average data for  HrXYiM72Co\n",
      "Could not load video average data for  VqdvbWsYVI\n",
      "Could not load video average data for  tPmBBwGwZ0\n",
      "Could not load video average data for  eVsniQdOnM\n",
      "Could not load video average data for  z10SCrCTNw\n",
      "Could not load video average data for  6Dp0KJzMPI\n",
      "Could not load video average data for  Tkm9OvtV_0\n",
      "Could not load video average data for  Am5l-XiKNk\n",
      "Could not load video average data for  v18Kh4-vIg\n",
      "Could not load video average data for  TZm0Y_G78M\n",
      "Could not load video average data for  41bc_vzV-M\n",
      "Could not load video average data for  lQrshWAjuE\n",
      "Could not load video average data for  NyViE_8riM\n",
      "Could not load video average data for  839IbPGJ4U\n",
      "Could not load video average data for  FEVhoENWAk\n",
      "Could not load video average data for  I6mHeDvOGI\n",
      "Could not load video average data for  uO3HKSlM1w\n",
      "Could not load video average data for  Ky-PYCn6mo\n",
      "Could not load video average data for  ZKhfZ25L4o\n",
      "Could not load video average data for  fYYhJaQTmU\n",
      "Could not load video average data for  O-F4HthqlmCao\n",
      "Could not load video average data for  0zNBUF-nR4\n",
      "Could not load video average data for  SQgAk7Df84\n",
      "Could not load video average data for  _M4J7XiH8\n",
      "Could not load video average data for  Jj9q-67ivA\n",
      "Could not load video average data for  mWj8XWr-T0\n",
      "Could not load video average data for  FYvmTWHhnc\n",
      "Could not load video average data for  6xkxLKrDPw\n",
      "Could not load video average data for  NJ5p6sAn6I\n",
      "Could not load video average data for  S3vXAAl7vw\n",
      "Could not load video average data for  RCzZp1J0v0\n",
      "Could not load video average data for  oM1tFJZ3rE\n",
      "Could not load video average data for  IVWyuC2AB8\n",
      "Could not load video average data for  uTkKzu9zG0\n",
      "Could not load video average data for  sEcI7s2MRA\n",
      "Could not load video average data for  R-GXnXw2wU\n",
      "Could not load video average data for  grSL9XfE5M\n",
      "Could not load video average data for  esTZ_c_k\n",
      "Could not load video average data for  WhvPoCkl9U\n",
      "Could not load video average data for  hBePYuPZ9E\n",
      "Could not load video average data for  q0TP6WpyBs\n",
      "Could not load video average data for  qkzqE_Fg6g\n",
      "Could not load video average data for  _tpWrv76Q8\n",
      "Could not load video average data for  CJFTpEZjTQ\n",
      "Could not load video average data for  mTEa1TNAa8\n",
      "Could not load video average data for  9ulSZyzRtg\n",
      "Could not load video average data for  dNwvC8IrKg\n",
      "Could not load video average data for  GpA_T_Eqc4\n",
      "Could not load video average data for  hIQTPo262rQ\n",
      "Could not load video average data for  KXhrSpEQpg\n",
      "Could not load video average data for  2BVILWRT0\n",
      "Could not load video average data for  TCgRIA0RYo\n",
      "Could not load video average data for  khmOG9hx3c\n",
      "Could not load video average data for  7DWhmzM24Q\n",
      "Could not load video average data for  8sCWdR7Dyk\n",
      "Could not load video average data for  cR4QxSqjn0\n",
      "Could not load video average data for  7CtRO1gcxM\n",
      "Could not load video average data for  HcF7iC984U\n",
      "Could not load video average data for  d1f5Zp5g7M\n",
      "Could not load video average data for  SmggQZno6w\n",
      "Could not load video average data for  L-YwrjKqZU\n",
      "Could not load video average data for  hrazoRgea4\n",
      "Could not load video average data for  o6yW49SmwU\n",
      "Number of loaded episodes: 2455\n"
     ]
    }
   ],
   "source": [
    "import pandas as pd\n",
    "import pickle\n",
    "import numpy as np\n",
    "from tqdm import tqdm\n",
    "from lib.Episode import Episode, EpisodeFactory\n",
    "import json\n",
    "\n",
    "CACHE_ALL = \"./jre-episodes.pickle\"\n",
    "CACHE_SMALL = \"./jre-episodes-small.pickle\"\n",
    "CACHE = CACHE_ALL\n",
    "\n",
    "print(f\"Generating new pickle {CACHE}...\")\n",
    "factory = EpisodeFactory(\"../data/jre\")\n",
    "episodes = factory.create_episodes(skip_comments=True)\n",
    "with open(CACHE, \"wb\") as f:\n",
    "    if CACHE == CACHE_SMALL:\n",
    "        pickle.dump(episodes[:100], f)\n",
    "    else:\n",
    "        pickle.dump(episodes, f)\n",
    "\n",
    "print(f\"Number of loaded episodes: {len(episodes)}\")\n"
   ]
  },
  {
   "cell_type": "markdown",
   "metadata": {},
   "source": [
    "#### To CSV"
   ]
  },
  {
   "cell_type": "code",
   "execution_count": 3,
   "metadata": {
    "ExecuteTime": {
     "end_time": "2020-11-18T03:34:43.942637Z",
     "start_time": "2020-11-18T03:34:43.767352Z"
    }
   },
   "outputs": [
    {
     "ename": "AttributeError",
     "evalue": "'Episode' object has no attribute 'guests'",
     "output_type": "error",
     "traceback": [
      "\u001b[0;31m-----------------------------------------------------\u001b[0m",
      "\u001b[0;31mAttributeError\u001b[0m      Traceback (most recent call last)",
      "\u001b[0;32m<ipython-input-3-ee70e038985d>\u001b[0m in \u001b[0;36m<module>\u001b[0;34m\u001b[0m\n\u001b[1;32m      2\u001b[0m     [\n\u001b[1;32m      3\u001b[0m         \u001b[0;34m(\u001b[0m\u001b[0me\u001b[0m\u001b[0;34m.\u001b[0m\u001b[0mvideo_id\u001b[0m\u001b[0;34m,\u001b[0m \u001b[0me\u001b[0m\u001b[0;34m.\u001b[0m\u001b[0mtitle\u001b[0m\u001b[0;34m,\u001b[0m \u001b[0me\u001b[0m\u001b[0;34m.\u001b[0m\u001b[0mnumber\u001b[0m\u001b[0;34m,\u001b[0m \u001b[0me\u001b[0m\u001b[0;34m.\u001b[0m\u001b[0mpublished_at\u001b[0m\u001b[0;34m,\u001b[0m \u001b[0me\u001b[0m\u001b[0;34m.\u001b[0m\u001b[0mguests\u001b[0m\u001b[0;34m,\u001b[0m \u001b[0me\u001b[0m\u001b[0;34m.\u001b[0m\u001b[0mis_main_episode\u001b[0m\u001b[0;34m)\u001b[0m\u001b[0;34m\u001b[0m\u001b[0;34m\u001b[0m\u001b[0m\n\u001b[0;32m----> 4\u001b[0;31m          \u001b[0;32mfor\u001b[0m \u001b[0me\u001b[0m \u001b[0;32min\u001b[0m \u001b[0mepisodes\u001b[0m\u001b[0;34m\u001b[0m\u001b[0;34m\u001b[0m\u001b[0m\n\u001b[0m\u001b[1;32m      5\u001b[0m     ],\n\u001b[1;32m      6\u001b[0m     \u001b[0mcolumns\u001b[0m\u001b[0;34m=\u001b[0m\u001b[0;34m[\u001b[0m\u001b[0;34m\"id\"\u001b[0m\u001b[0;34m,\u001b[0m \u001b[0;34m\"title\"\u001b[0m\u001b[0;34m,\u001b[0m \u001b[0;34m\"number\"\u001b[0m\u001b[0;34m,\u001b[0m \u001b[0;34m\"published\"\u001b[0m\u001b[0;34m,\u001b[0m \u001b[0;34m\"guests\"\u001b[0m\u001b[0;34m,\u001b[0m \u001b[0;34m\"main\"\u001b[0m\u001b[0;34m]\u001b[0m\u001b[0;34m\u001b[0m\u001b[0;34m\u001b[0m\u001b[0m\n",
      "\u001b[0;32m<ipython-input-3-ee70e038985d>\u001b[0m in \u001b[0;36m<listcomp>\u001b[0;34m(.0)\u001b[0m\n\u001b[1;32m      2\u001b[0m     [\n\u001b[1;32m      3\u001b[0m         \u001b[0;34m(\u001b[0m\u001b[0me\u001b[0m\u001b[0;34m.\u001b[0m\u001b[0mvideo_id\u001b[0m\u001b[0;34m,\u001b[0m \u001b[0me\u001b[0m\u001b[0;34m.\u001b[0m\u001b[0mtitle\u001b[0m\u001b[0;34m,\u001b[0m \u001b[0me\u001b[0m\u001b[0;34m.\u001b[0m\u001b[0mnumber\u001b[0m\u001b[0;34m,\u001b[0m \u001b[0me\u001b[0m\u001b[0;34m.\u001b[0m\u001b[0mpublished_at\u001b[0m\u001b[0;34m,\u001b[0m \u001b[0me\u001b[0m\u001b[0;34m.\u001b[0m\u001b[0mguests\u001b[0m\u001b[0;34m,\u001b[0m \u001b[0me\u001b[0m\u001b[0;34m.\u001b[0m\u001b[0mis_main_episode\u001b[0m\u001b[0;34m)\u001b[0m\u001b[0;34m\u001b[0m\u001b[0;34m\u001b[0m\u001b[0m\n\u001b[0;32m----> 4\u001b[0;31m          \u001b[0;32mfor\u001b[0m \u001b[0me\u001b[0m \u001b[0;32min\u001b[0m \u001b[0mepisodes\u001b[0m\u001b[0;34m\u001b[0m\u001b[0;34m\u001b[0m\u001b[0m\n\u001b[0m\u001b[1;32m      5\u001b[0m     ],\n\u001b[1;32m      6\u001b[0m     \u001b[0mcolumns\u001b[0m\u001b[0;34m=\u001b[0m\u001b[0;34m[\u001b[0m\u001b[0;34m\"id\"\u001b[0m\u001b[0;34m,\u001b[0m \u001b[0;34m\"title\"\u001b[0m\u001b[0;34m,\u001b[0m \u001b[0;34m\"number\"\u001b[0m\u001b[0;34m,\u001b[0m \u001b[0;34m\"published\"\u001b[0m\u001b[0;34m,\u001b[0m \u001b[0;34m\"guests\"\u001b[0m\u001b[0;34m,\u001b[0m \u001b[0;34m\"main\"\u001b[0m\u001b[0;34m]\u001b[0m\u001b[0;34m\u001b[0m\u001b[0;34m\u001b[0m\u001b[0m\n",
      "\u001b[0;31mAttributeError\u001b[0m: 'Episode' object has no attribute 'guests'"
     ]
    }
   ],
   "source": [
    "ep_df = pd.DataFrame(\n",
    "    [\n",
    "        (e.video_id, e.title, e.number, e.published_at, e.guests, e.is_main_episode) \n",
    "         for e in episodes\n",
    "    ],\n",
    "    columns=[\"id\", \"title\", \"number\", \"published\", \"guests\", \"main\"]\n",
    ")\n",
    "\n",
    "ep_df.head()"
   ]
  }
 ],
 "metadata": {
  "kernelspec": {
   "display_name": "Python 3",
   "language": "python",
   "name": "python3"
  },
  "language_info": {
   "codemirror_mode": {
    "name": "ipython",
    "version": 3
   },
   "file_extension": ".py",
   "mimetype": "text/x-python",
   "name": "python",
   "nbconvert_exporter": "python",
   "pygments_lexer": "ipython3",
   "version": "3.7.4"
  }
 },
 "nbformat": 4,
 "nbformat_minor": 4
}
